{
 "cells": [
  {
   "cell_type": "markdown",
   "metadata": {},
   "source": [
    "# Planetary Motion Mathematical Programming Project  \n",
    "#### By Billy Phillips, Blessen Varghese, John Stack and Kawsar Hassan"
   ]
  },
  {
   "cell_type": "markdown",
   "metadata": {},
   "source": [
    "## Introduction"
   ]
  },
  {
   "cell_type": "markdown",
   "metadata": {},
   "source": [
    "This project features many animations which can cause the kernal to crash. Thus it is best to go through each cell individually one after the other rather than trying to run them all at once. After you are finished with an animation, please stop it. \n",
    "\n",
    "Please also note that there are saved videos of all animations below, ordered as they appear, in the Animations folder. There are also saved diagrams of all diagrams that appear below, ordered as they appear, in the Diagrams folder."
   ]
  },
  {
   "cell_type": "markdown",
   "metadata": {},
   "source": [
    "### Constants"
   ]
  },
  {
   "cell_type": "code",
   "execution_count": null,
   "metadata": {
    "scrolled": true
   },
   "outputs": [],
   "source": [
    "G = 6.67408 * (10**-11)\n",
    "earMass = 5.9722 * (10**24)\n",
    "sunMass = 1.989 * (10**30)\n",
    "moonMass = 7.348 * (10**22)\n",
    "orbitDistance = 149.59787 * (10**9)"
   ]
  },
  {
   "cell_type": "markdown",
   "metadata": {},
   "source": [
    "### Utility Functions"
   ]
  },
  {
   "cell_type": "code",
   "execution_count": null,
   "metadata": {
    "tags": [
     "outputPrepend"
    ]
   },
   "outputs": [],
   "source": [
    "%matplotlib notebook\n",
    "import numpy as np\n",
    "import math\n",
    "from matplotlib import pyplot as plt\n",
    "from matplotlib import animation\n",
    "import matplotlib\n",
    "import scipy.constants\n",
    "from numpy import unravel_index\n",
    "from math import sqrt\n",
    "\n",
    "numberOfIterations = 3600 \n",
    "\n",
    "# initialization function: plot the background of each frame\n",
    "def initWithText():\n",
    "    point.set_data([], [])\n",
    "    \n",
    "    accText1.set_text('a1')\n",
    "    accText2.set_text('a2')\n",
    "\n",
    "    vText1.set_text('v1')\n",
    "    vText2.set_text('v2')\n",
    "    \n",
    "    return point, accText1\n",
    "\n",
    "# initialization function: plot the background of each frame\n",
    "def init():\n",
    "    \n",
    "    point.set_data([], [])\n",
    "    \n",
    "    return point,\n",
    "\n",
    "# returns the gravitational force between the sun and the earth, as a vector\n",
    "def force(rVect):\n",
    "    \n",
    "    rVect=np.array(rVect)\n",
    "    negativeArray = np.array((-1,-1))\n",
    "    \n",
    "    f= -rVect*earMass*sunMass*G/(np.linalg.norm(rVect)**3)\n",
    "    \n",
    "    return f\n",
    "\n",
    "def twoBodyForce(rVect, m1,m2): #generalised force function for two bodies\n",
    "    rVect = np.array(rVect)\n",
    "    f = -rVect * m1 * m2 * G / (np.linalg.norm(rVect) ** 3)\n",
    "\n",
    "    return f\n",
    "\n",
    "#calculates the trajectories and velocities of a planet moving around a fixed mass.\n",
    "def orbit(r0,v0):\n",
    "    dt = 3.1536e7/3600 # using a timestamp of roughly 2.5 hours \n",
    "    \n",
    "    #initilising variables and storing initial conditions\n",
    "    rVect = np.zeros(((numberOfIterations + 1),2))\n",
    "    aVect=np.zeros(((numberOfIterations + 1),2))\n",
    "    vVect = np.zeros(((numberOfIterations + 1),2))\n",
    "    \n",
    "    rVect[0]=r0\n",
    "    vVect[0]=v0\n",
    "    \n",
    "    #uses the velocity Verlet algorithm to compute positions,acceleration and velocities\n",
    "    for i in range (numberOfIterations):\n",
    "        rVect[i+1] = (rVect[i]) + (vVect[i]*dt)+(0.5*aVect[i]*(dt**2))                   \n",
    "        aVect[i+1]=force(rVect[i+1])/earMass\n",
    "        vVect[i+1] = (vVect[i]) + (0.5*(aVect[i+1]+aVect[i])*dt)\n",
    "    #returning the path and velocities\n",
    "    return (rVect, vVect)\n",
    "\n",
    "# animation function.  This is called sequentially\n",
    "def animate(i):\n",
    "    if i >= numberOfIterations: #restarts animation from 0 if i > numberOfIterations\n",
    "        loops = math.floor(i/numberOfIterations)\n",
    "        i = i -(numberOfIterations*loops)\n",
    "    \n",
    "    x = points[i+1][0]\n",
    "    y = points[i+1][1]\n",
    "    point.set_data([x], [y])\n",
    "    \n",
    "    return point,\n",
    "\n",
    "#general animation function, allows more than one body to be animated at once.\n",
    "def animateMultiple(i):\n",
    "    \n",
    "    if i >= numberOfIterations: #restarts animation from 0 if i > numberOfIterations\n",
    "        loops = math.floor(i/numberOfIterations)\n",
    "        i = i -(numberOfIterations*loops)\n",
    "    \n",
    "    #iterate through bodies to be animated\n",
    "    for key in pointsDictionary:\n",
    "        \n",
    "        #set co-ords\n",
    "        x = pointsDictionary[key][i+1][0]\n",
    "        y = pointsDictionary[key][i+1][1]\n",
    "        \n",
    "        animatingPointsDictionary[key].set_data([x], [y])\n",
    "        \n",
    "    return list(pointsDictionary.values())\n",
    "\n",
    "\n",
    "def animateBarry(i):\n",
    "    \n",
    "    if i >= numberOfIterations: #restarts animation from 0 if i > numberOfIterations\n",
    "        loops = math.floor(i/numberOfIterations)\n",
    "        i = i -(numberOfIterations*loops)\n",
    "    \n",
    "    x = sunOrbitRelativeToBarry[i+1][0]\n",
    "    y = sunOrbitRelativeToBarry[i+1][1]\n",
    "    point.set_data([x], [y])\n",
    "    \n",
    "    return point,\n",
    "\n",
    "def animateMultipleBodies(i):\n",
    "    \n",
    "    if i >= numberOfIterations: #restarts animation from 0 if i > numberOfIterations\n",
    "        loops = math.floor(i/numberOfIterations)\n",
    "        i = i -(numberOfIterations*loops)\n",
    "    \n",
    "    for key in pointsDictionary:\n",
    "        \n",
    "        for body in animatingPointsDictionary[key]:\n",
    "            x = pointsDictionary[key][body][i+1][0]\n",
    "            y = pointsDictionary[key][body][i+1][1]\n",
    "            \n",
    "            animatingPointsDictionary[key][body].set_data([x], [y])\n",
    "        \n",
    "    return animatingPointsDictionary[key]\n",
    "\n",
    "#same as general animation function but allows text to be animated too\n",
    "def animateMultipleWithText(i):\n",
    "    \n",
    "    if i >= numberOfIterations: #restarts animation from 0 if i > numberOfIterations\n",
    "        loops = math.floor(i/numberOfIterations)\n",
    "        i = i -(numberOfIterations*loops)\n",
    "    \n",
    "    for key in pointsDictionary:\n",
    "        \n",
    "        #if iterating over text object, handle accordingly\n",
    "        if key in ['accBodyOne', 'vB1', 'accBodyTwo', 'vB2']:\n",
    "\n",
    "            x = pointsDictionary[key][i+1][0]\n",
    "            y = pointsDictionary[key][i+1][1]\n",
    "            \n",
    "            #format to 3sf\n",
    "            formattedX = np.format_float_scientific(x, precision=1, unique=False, trim='k')\n",
    "            formattedY = np.format_float_scientific(y, precision=1, unique=False, trim='k')\n",
    "            \n",
    "            #set text\n",
    "            animatingPointsDictionary[key].set_text(key[0]+ ' = ('+str(formattedX)+', '+str(formattedY)+')')\n",
    "        \n",
    "        else:\n",
    "            x = pointsDictionary[key][i+1][0]\n",
    "            y = pointsDictionary[key][i+1][1]\n",
    "        \n",
    "            animatingPointsDictionary[key].set_data([x], [y])\n",
    "        \n",
    "    return list(pointsDictionary.values())"
   ]
  },
  {
   "cell_type": "markdown",
   "metadata": {},
   "source": [
    "## Core 1"
   ]
  },
  {
   "cell_type": "markdown",
   "metadata": {},
   "source": [
    "In this section we perform a simple simulation of an Earth like planet's orbit around the Sun. We use initial positions of $r_0=(149.59787\\times 10^9 m ,0)$ for the Earth like planet and $r_0=(0 ,0)$ for the Sun. We use an initial velocity of $v_0 = (0,29.8km \\backslash s)$ for the Earth like planet and treat the Sun as fixed. We run the simulation using the velocity Verlet algorithm $k = 3600$ times with a $dt$ of roughly $2.5h$, equivilant to the number of seconds in a year divided by $3600$. This means that the simulation runs over the course of a year.  "
   ]
  },
  {
   "cell_type": "code",
   "execution_count": null,
   "metadata": {},
   "outputs": [],
   "source": [
    "#set simulation time to 1 year\n",
    "numberOfIterations = 3600\n",
    "#get our array of earth points accordingly\n",
    "points = orbit((orbitDistance,0),(0,29800))[0]\n",
    "\n",
    "#set axes accordingly\n",
    "fig = plt.figure()\n",
    "ax = plt.axes(xlim=(-225e9, 225e9), ylim=(-225e9, 225e9))\n",
    "\n",
    "#plot our inital points\n",
    "point, = ax.plot(0,0, marker=\"o\")\n",
    "plt.plot([0,0],'ro')\n",
    "plt.annotate(\"Sun\",(0,0))\n",
    "\n",
    "#formating...\n",
    "plt.title(\"Earth-like planet's orbit, v = 29.8km/s\")\n",
    "plt.xlabel(\"x-axis\")\n",
    "plt.ylabel(\"y-axis\")\n",
    "\n",
    "plt.plot(orbitDistance,0, 'o')\n",
    "plt.annotate(\"Earth r_0\", [orbitDistance, 0], ha='left')\n",
    "\n",
    "#plot the earth like planet's trajectory\n",
    "plt.plot(points[:,0], points[:,1])\n",
    "\n",
    "plt.show()\n",
    "\n",
    "#animation figure\n",
    "fig = plt.figure()\n",
    "ax = plt.axes(xlim=(-225e9, 225e9), ylim=(-225e9, 225e9))\n",
    "\n",
    "point, = ax.plot(0,0, marker=\"o\")\n",
    "plt.plot([0,0],'ro')\n",
    "plt.annotate(\"Sun\",(0,0))\n",
    "plt.title(\"Earth-like planet's orbit animation, v = 29.8km/s\")\n",
    "plt.xlabel(\"x-axis\")\n",
    "plt.ylabel(\"y-axis\")\n",
    "plt.plot(orbitDistance,0, 'o')\n",
    "plt.annotate(\"Earth r_0\", [orbitDistance, 0], ha='left')\n",
    "\n",
    "#call our animation function\n",
    "anim = animation.FuncAnimation(fig, animate, init_func=init,\n",
    "                               interval=1, blit=True, frames=3600, save_count=300)\n",
    "\n",
    "plt.plot(points[:,0], points[:,1])\n",
    "\n",
    "plt.show()"
   ]
  },
  {
   "cell_type": "markdown",
   "metadata": {},
   "source": [
    "## Core 2"
   ]
  },
  {
   "cell_type": "markdown",
   "metadata": {},
   "source": [
    "In this part we will be verifying that the Earth like planet's orbit is closed with initial position $r_0=(149.59787\\times 10^9 m ,0)$ and initial velocity $v_0 = (0,29.8km \\backslash s)$\n",
    "This can be done finding the trajectory using the \"orbit\" function that we have defined before and plotting it. The trajectory represents the orbit of an Earth like planet over the course of a year."
   ]
  },
  {
   "cell_type": "code",
   "execution_count": null,
   "metadata": {},
   "outputs": [],
   "source": [
    "numberOfIterations = 3600\n",
    "#finds the trajectory with given intital postion and velocity\n",
    "points = orbit((orbitDistance,0),(0,29800))[0]\n",
    "\n",
    "#plotting the path\n",
    "fig = plt.figure()\n",
    "ax = plt.axes(xlim=(-225e9, 225e9), ylim=(-225e9, 225e9))\n",
    "point, = ax.plot(0,0, marker=\"o\")\n",
    "plt.plot([0,0],'ro')\n",
    "plt.annotate(\"Sun\",(0,0))\n",
    "\n",
    "plt.title(\"Earth Orbit\")\n",
    "plt.xlabel(\"x-axis\")\n",
    "plt.ylabel(\"y-axis\")\n",
    "\n",
    "plt.plot(points[:,0], points[:,1])\n",
    "\n",
    "plt.show()"
   ]
  },
  {
   "cell_type": "markdown",
   "metadata": {},
   "source": [
    "After running the function above, we can see that this is what we were expecting: a closed path."
   ]
  },
  {
   "cell_type": "markdown",
   "metadata": {},
   "source": [
    "### Conservation of energy"
   ]
  },
  {
   "cell_type": "markdown",
   "metadata": {},
   "source": [
    "We will be using the velocities and positions we calculated of Earth with initial velocity $v_0 = (0,29.8km \\backslash s)$ to compute the total energy, given by the formula:\n",
    "\n",
    "\\begin{align}\n",
    "E &= \\textrm{kinetic energy + gravitational potential energy}\\\\ \n",
    "&= \\frac{1}{2}m\\dot{\\underline{r}}^2+\\frac{GM_{sun}m_{ear}}{\\lvert \\underline{r}\\rvert}\n",
    "\\end{align}\n",
    "\n",
    "We will iterate through all the points in the trjectory that we have calculated afore and calculate E at each point, store it in an array and plot it. We expect a horizontal line if the total energy of the system is conserved."
   ]
  },
  {
   "cell_type": "code",
   "execution_count": null,
   "metadata": {},
   "outputs": [],
   "source": [
    "numberOfIterations = 3600\n",
    "fig=plt.figure()\n",
    "orbitTuple = orbit((orbitDistance,0),(0,29800))\n",
    "\n",
    "points298 = orbitTuple[0]\n",
    "velocities= orbitTuple[1]\n",
    "\n",
    "E=[]\n",
    "#build an array of energies corresponding to velocities.\n",
    "for i in range(1,len(velocities)):\n",
    "    E.append(0.5*earMass*np.dot(velocities[i],velocities[i])+ (-1 * G*sunMass*earMass/np.linalg.norm(points298[i])))\n",
    "   \n",
    "plt.ylim(-0.5e34, 0.5e34)\n",
    "\n",
    "#plot energy throughout trajectory\n",
    "plt.plot([j for j in range(len(velocities)-1)],E)\n",
    "\n",
    "\n",
    "plt.xlabel(\"Time in hours(2.5t)\") \n",
    "plt.ylabel(\"Total energy of the system (Joules, J)\")\n",
    "plt.title(\"A graph to show the constant energy of the orbit throughout the year \", y =1.08)\n",
    "plt.show()"
   ]
  },
  {
   "cell_type": "markdown",
   "metadata": {},
   "source": [
    "The graph shows what we were expecting, a horizontal lines. This confirms that the total energy of the system is conserved."
   ]
  },
  {
   "cell_type": "markdown",
   "metadata": {},
   "source": [
    "### Deriving value of v$_0$"
   ]
  },
  {
   "cell_type": "markdown",
   "metadata": {},
   "source": [
    "The position of the earth simplified to 2 dimensional space $\\underline{r}(t)$ in polar coordinates $(r,\\theta)$ is given by:\n",
    "\n",
    "\n",
    "$\\underline{r}(t)=\\begin{pmatrix} x \\\\ y \\end{pmatrix}=\\begin{pmatrix} r(t)cos\\theta(t) \\\\ r(t) sin\\theta(t) \\end{pmatrix}$\n",
    "\n",
    "$\\rightarrow \\dot{\\underline{r}}= \\begin{pmatrix} \\dot{r}cos\\theta-sin\\theta\\dot{\\theta}r \\\\ \\dot{r}sin\\theta +cos\\theta\\dot{\\theta}r \\end{pmatrix}$\n",
    "\n",
    "Using $\\dot{r}$ to compute the Lagrangian L, given by the formula:\n",
    "\n",
    "\\begin{align}\n",
    "L & =\\frac{1}{2}m\\underline{\\dot{r}}^2-U\\\\\n",
    " & = \\frac{1}{2}m(\\dot{r}^2cos^2\\theta +sin^2\\theta\\dot{\\theta}^2r^2 +\\dot{r}^2sin^2\\theta +cos^2\\theta\\dot{\\theta}r^2)\\\\\n",
    " & = \\frac{1}{2}m(\\dot{r}^2+\\dot{\\theta}^2r^2)+\\frac{GMm}{r}\n",
    "\\end{align}\n",
    "\n",
    "\n",
    "We can see that $\\frac{\\partial L}{\\partial t}=0$ and the kinetic energy is quadratic in $\\dot{r}$ and $\\dot{\\theta}$ so h=E=constant. Where h is generalised energy and E is the total energy of the system.\n",
    "\n",
    "$$E=\\frac{1}{2}m(\\dot{r}^2+\\dot{\\theta}^2r^2)-\\frac{GMm}{r} = c \\ (constant) $$\n",
    "\n",
    "Computing the momentum in the generalised coordinate $\\theta$:\n",
    "$$\\frac{\\partial L}{\\partial \\dot{\\theta}}=mr^2\\dot{\\theta}=p_{\\theta}\\\\\n",
    "\\rightarrow \\dot{\\theta}=\\frac{p_{\\theta}}{mr^2}$$\n",
    "substituting this back into the formula for energy we have:\n",
    "$$E=\\frac{1}{2}m\\dot{r}^2 +\\frac{p_{\\theta}}{2mr^2}-\\frac{GMm}{r}$$\n",
    "\n",
    "where\n",
    "$$U_{eff}(r)=\\frac{p_{\\theta}}{2mr^2}-\\frac{GMm}{r}$$\n",
    "\n",
    "can be thought of as the effective potential of particle moving in 1-D.\n",
    "\n",
    "So we get:\n",
    "\n",
    "$$E=\\frac{1}{2}m\\dot{r}^2+U_{eff}(r)$$\n",
    "We know the orbit is circular if $E=U_{eff}(r_{\\star})$, where $r_{\\star}$ is the equilibrium of the orbit radius. \n",
    "\n",
    "$$\\rightarrow \\frac{\\partial U_{eff}}{\\partial r}|r_{\\star}=0\\\\\n",
    "\\rightarrow \\frac{-p_{\\theta}^2}{mr^3}+\\frac{GMm}{r_{\\star}^2}=0$$ \n",
    "$$\\rightarrow  p_{\\theta}^2=GMm^2r_{\\star} $$\n",
    "\n",
    "Substituting this back in for the equation for $\\dot{\\theta}$, we have:\n",
    "$$\\dot{\\theta}=\\frac{\\pm \\sqrt{GMmr_{\\star}}}{mr_{\\star}^2}\\\\=\\pm \\sqrt{GMr_{\\star}^{-3}}$$\n",
    "\n",
    "We can now calculate the tangential velocity for the circular orbit.\n",
    "So we have:\n",
    "\n",
    "\n",
    "\\begin{align}\n",
    "v_{tangent} &= \\omega r\\\\\n",
    "&=\\dot{\\theta}r= \\sqrt{6.67\\times 10^{-11} \\times 1.989\\times 10^{30} \\times (149.59787\\times 10^9)^{-3}}\\times 149.59787\\times 10^9 \\\\   & \\approx 29.8km/s \\end{align} \n",
    "\n",
    "\\\n",
    "\\\n",
    "This shows that there is only one initial value ($v_0$) for which the orbit is near circular. \n"
   ]
  },
  {
   "cell_type": "markdown",
   "metadata": {},
   "source": [
    "## Core 3"
   ]
  },
  {
   "cell_type": "markdown",
   "metadata": {},
   "source": [
    "We will first use code to calculate the charateristics of the different trajectories of an Earth like planet with differing inital velocity. We will then graphically represent these characteristics. Finally, we will discuss the analytical aspects of the question. For each trajectory, we will calculate the aphelion and perihelon over a period of $3$ years, the total energy, whether an orbit is eliptical or parabolic or hyperbolic and, if the orbit is eliptical, its eccentricity. \n",
    "\n",
    "The chosen time frame, $3$ years, is arbitary and simply chosen to ensure that eliptical orbits of higher eccentricity and thus length can be completed. The constant representing this can be easily changed below, if desired.\n",
    "\n",
    "Below is a description of how we calculate the chosen charateristics.\n",
    "\n",
    "### Calculating the aphelion and perihelion of a trajectory\n",
    "\n",
    "We calculate the aphelion and the perihelon empirically. We do this by iterating through the points of a trajectory and determining the point of maximum distance and the point of minimum distance. \n",
    "\n",
    "### Calculating eccentricity for elliptical orbits\n",
    "\n",
    "Since for eliptical orbits we have a value for the aphelion and the perihelon we can simply determine the eccentricity via the below formula:\n",
    "\n",
    "$$e=\\frac{r_{a} - r_{p}}{r_{a} + r_{p}}$$\n",
    "\n",
    "where $r_{a}$ and $r_{p}$ are the planet's distance from the Sun at its orbit's aphelion and perihelon respectively.\n",
    "\n",
    "### Calculating whether an orbit is elliptic, parabolic or hyperbolic\n",
    "\n",
    "We know that energy is conserved at all points in a trajectory. Thus if E > 0 at any point then E > 0 at all points, and if this is the case we know that a trajectory is hyperbolic since it implies that the planet is above escape velocity at all points. If E = 0, then the orbit is parabolic since the Earth-like planet will be exactly at the escape velocity. If E < 0 the orbit is, of course, elliptic because the Earth-like planet is below the escape velocity.\n",
    "\n",
    "\n"
   ]
  },
  {
   "cell_type": "markdown",
   "metadata": {},
   "source": [
    "### Parameters\n",
    "vValues is a list of the inital velocites we will be simulating. Add or change this list to see simulations for more velocites than those already listed. \n",
    "\n",
    "numberOfIterations represents the period of time over which the simulation will run. The simulation will run over numberOfIterations/3600 years. This can be changed at will."
   ]
  },
  {
   "cell_type": "code",
   "execution_count": null,
   "metadata": {},
   "outputs": [],
   "source": [
    "vValues = [16000, 29800, 35000, 42127.47101257403, 64000] #chose whatever vValues you like, you will get the corresponding graphs \n",
    "                                        #and animations below\n",
    "numberOfIterations = 10800 #changing to an approriate lenght (~3 years) \n",
    "                           #so that full orbit of longer orbits can be seen"
   ]
  },
  {
   "cell_type": "markdown",
   "metadata": {},
   "source": [
    "We simulate trajectories and calculate the characteristics below. Again, we use initial positions of $r_0=(149.59787\\times 10^9 m ,0)$ for the Earth like planet and $r_0=(0 ,0)$ for the Sun. We use an initial velocity of $v_0 = (0,29.8km \\backslash s)$ for the Earth like planet and treat the Sun as fixed. "
   ]
  },
  {
   "cell_type": "code",
   "execution_count": null,
   "metadata": {},
   "outputs": [],
   "source": [
    "pointsDictionary = {}\n",
    "\n",
    "#create a dictionary of points where the earth like planet's inital velocity is the key\n",
    "for v in vValues:\n",
    "    \n",
    "    pointsDictionary[v] = orbit((orbitDistance,0),(0,v))[0]\n",
    "\n",
    "#for each trajectory, create a dictionary of characteristics where the inital velocity is the key\n",
    "trajectoryCharacteristics = {}\n",
    "\n",
    "for key in pointsDictionary:\n",
    "    \n",
    "    #defining variables\n",
    "    orbitType = ''\n",
    "    \n",
    "    points = pointsDictionary[key]\n",
    "    \n",
    "    index = 0\n",
    "    \n",
    "    minDistanceIndex = 0\n",
    "    maxDistanceIndex = 0\n",
    "    \n",
    "    #at the start these statements are true, if i were to initalise with 0 then that would never be changed etc\n",
    "    minDistanceCoords = [orbitDistance, 0]\n",
    "    \n",
    "    maxDistanceCoords = [orbitDistance, 0]\n",
    "    \n",
    "    minDistance = sqrt((points[0][0] ** 2) + (points[0][1] ** 2))\n",
    "    \n",
    "    maxDistance = sqrt((points[0][0] ** 2) + (points[0][1] ** 2))\n",
    "    \n",
    "    energy = (0.5*earMass*(key **2))- ( (G*sunMass*earMass)/(orbitDistance))\n",
    "    \n",
    "    #categorise trajectories accordingly\n",
    "    if energy < 0:\n",
    "        orbitType = 'Elliptical'\n",
    "    elif energy == 0:\n",
    "        orbitType = 'Parabolic'\n",
    "    elif energy > 0:\n",
    "        orbitType = 'Hyperbolic'\n",
    "    \n",
    "    #empirically calculate the min and max points.\n",
    "    for point in points:\n",
    "        \n",
    "        distance = sqrt((point[0]**2) + (point[1] **2))\n",
    "        \n",
    "        if distance > maxDistance:\n",
    "            maxDistance = distance\n",
    "            maxDistanceIndex = index\n",
    "            \n",
    "            maxDistanceCoords[0] = point[0]\n",
    "            maxDistanceCoords[1] = point[1]\n",
    "            \n",
    "        if distance < minDistance:\n",
    "            \n",
    "            minDistance = distance\n",
    "            minDistanceIndex = index\n",
    "            \n",
    "            minDistanceCoords[0] = point[0]\n",
    "            minDistanceCoords[1] = point[1]\n",
    "        \n",
    "        index += 1\n",
    "    \n",
    "    eccentricity = (maxDistance - minDistance) / (maxDistance + minDistance)\n",
    "    \n",
    "    trajectoryCharacteristics[key] = {\n",
    "        \n",
    "        'minDistanceIndex': minDistanceIndex,\n",
    "        'maxDistanceIndex': maxDistanceIndex,\n",
    "        'minDistance': minDistance,\n",
    "        'maxDistance': maxDistance,\n",
    "        'minDistanceCoords': minDistanceCoords,\n",
    "        'maxDistanceCoords': maxDistanceCoords,\n",
    "        'e':eccentricity,\n",
    "        'energy':energy,\n",
    "        'orbitType': orbitType\n",
    "        \n",
    "    }"
   ]
  },
  {
   "cell_type": "markdown",
   "metadata": {},
   "source": [
    "Now that we have the simulated and caclulated information, we will represent it graphically. Note that e represents eccentricity, Per represents Perihelion and Aph represents Aphelion. "
   ]
  },
  {
   "cell_type": "code",
   "execution_count": null,
   "metadata": {
    "scrolled": false
   },
   "outputs": [],
   "source": [
    "\n",
    "for key in trajectoryCharacteristics:\n",
    "    fig = plt.figure()\n",
    "    ax = plt.axes(xlim=(-425e9, 425e9), ylim=(-425e9, 425e9))\n",
    "\n",
    "    #annotating sun\n",
    "\n",
    "    point, = ax.plot(0,0, marker=\"o\")\n",
    "    plt.plot([0,0],'ro')\n",
    "    plt.annotate(\"Sun\",(0,0))\n",
    "\n",
    "    #annotating apopsis and perihelon\n",
    "    plt.plot(trajectoryCharacteristics[key]['minDistanceCoords'][0],trajectoryCharacteristics[key]['minDistanceCoords'][1] , 'o')\n",
    "    plt.annotate(\"Per\",trajectoryCharacteristics[key]['minDistanceCoords'], ha='left')\n",
    "    \n",
    "    plt.plot(trajectoryCharacteristics[key]['maxDistanceCoords'][0],trajectoryCharacteristics[key]['maxDistanceCoords'][1] , 'o')\n",
    "\n",
    "    plt.annotate(\"Aph\",trajectoryCharacteristics[key]['maxDistanceCoords'], ha='right')\n",
    "    \n",
    "    #annotate orbit type\n",
    "    \n",
    "    if trajectoryCharacteristics[key]['orbitType'] == 'Elliptical':\n",
    "        \n",
    "        plt.text(-3e11,3e11, 'Type: ' + trajectoryCharacteristics[key]['orbitType']  + '\\ne = ' + str(round(trajectoryCharacteristics[key]['e'], 3)) )\n",
    "    else:\n",
    "        plt.text(-3e11,3e11, 'Type: ' + trajectoryCharacteristics[key]['orbitType'])\n",
    "    \n",
    "    \n",
    "    #formate velocity to 3s.f\n",
    "    formattedNumber = np.format_float_positional(key/1000, precision=3, unique=False, fractional=False, trim='k')\n",
    "    \n",
    "    plt.title(\"Earth-like planet's orbit, $v_{0} = (0, \" + str(formattedNumber) + \") km/s$\" + \" (3 s.f.)\")\n",
    "    plt.xlabel(\"x-axis\")\n",
    "    plt.ylabel(\"y-axis\")\n",
    "    \n",
    "    plt.plot(pointsDictionary[key][:,0], pointsDictionary[key][:,1], label=str(key))\n",
    "\n",
    "    plt.show()"
   ]
  },
  {
   "cell_type": "markdown",
   "metadata": {},
   "source": [
    "We will now visualise all trajectories on the same graph."
   ]
  },
  {
   "cell_type": "code",
   "execution_count": null,
   "metadata": {},
   "outputs": [],
   "source": [
    "#this time we don't create a new figure for each trajectory, thus they appear on the same one\n",
    "fig = plt.figure()\n",
    "ax = plt.axes(xlim=(-525e9, 525e9), ylim=(-525e9, 525e9))\n",
    "\n",
    "#annotating sun\n",
    "\n",
    "point, = ax.plot(0,0, marker=\"o\")\n",
    "plt.plot([0,0],'ro')\n",
    "plt.annotate(\"Sun\",(0,0))\n",
    "\n",
    "#annotating apopsis and perihelon\n",
    "\n",
    "for key in trajectoryCharacteristics:\n",
    "    \n",
    "    plt.plot(trajectoryCharacteristics[key]['minDistanceCoords'][0],trajectoryCharacteristics[key]['minDistanceCoords'][1] , 'o')\n",
    "    plt.annotate(\"Per\",trajectoryCharacteristics[key]['minDistanceCoords'])\n",
    "    \n",
    "    plt.plot(trajectoryCharacteristics[key]['maxDistanceCoords'][0],trajectoryCharacteristics[key]['maxDistanceCoords'][1] , 'o')\n",
    "\n",
    "    plt.annotate(\"Aph\",trajectoryCharacteristics[key]['maxDistanceCoords'])\n",
    "    \n",
    "plt.title(\"Earth like planet's orbit for various $v_0$ (3 s.f.)\")\n",
    "plt.xlabel(\"x-axis\")\n",
    "plt.ylabel(\"y-axis\")\n",
    "\n",
    "for key in trajectoryCharacteristics:\n",
    "    \n",
    "    formattedNumber = np.format_float_positional(key/1000, precision=3, unique=False, fractional=False, trim='k')\n",
    "\n",
    "    #plot trajectories\n",
    "    plt.plot(pointsDictionary[key][:,0], pointsDictionary[key][:,1], label=str(\"$v_{0} = (0, \" + str(formattedNumber) + \") km/s$\" ))\n",
    "\n",
    "plt.legend(loc=\"lower right\")\n",
    "\n",
    "plt.show()"
   ]
  },
  {
   "cell_type": "markdown",
   "metadata": {},
   "source": [
    "We will now visualise all orbits animated on the same graph."
   ]
  },
  {
   "cell_type": "code",
   "execution_count": null,
   "metadata": {},
   "outputs": [],
   "source": [
    "fig = plt.figure()\n",
    "ax = plt.axes(xlim=(-525e9, 525e9), ylim=(-525e9, 525e9))\n",
    "\n",
    "#set up our points to be annotated\n",
    "animatingPointsDictionary = {}\n",
    "\n",
    "for key in pointsDictionary:\n",
    "    \n",
    "    animatingPointsDictionary[key], = ax.plot(0,0, marker=\"o\")\n",
    "    \n",
    "plt.plot([0,0],'ro')\n",
    "plt.annotate(\"Sun\",(0,0))\n",
    "plt.title(\"Earth like planet's orbit animation for $v_0$ (3 s.f.)\")\n",
    "plt.xlabel(\"x-axis\")\n",
    "plt.ylabel(\"y-axis\")\n",
    "\n",
    "anim = animation.FuncAnimation(fig, animateMultiple, init_func=init,\n",
    "                               interval=1, blit=True, frames=numberOfIterations, save_count=300)\n",
    "\n",
    "for key in pointsDictionary:\n",
    "    formattedNumber = np.format_float_positional(key/1000, precision=3, unique=False, fractional=False, trim='k')\n",
    "\n",
    "    plt.plot(pointsDictionary[key][:,0], pointsDictionary[key][:,1], label=str(\"$v_{0} = (0, \" + str(formattedNumber) + \") km/s$\" ))\n",
    "\n",
    "plt.legend(loc=\"lower right\")\n",
    "\n",
    "plt.show()"
   ]
  },
  {
   "cell_type": "markdown",
   "metadata": {},
   "source": [
    "### Analytic Results"
   ]
  },
  {
   "cell_type": "markdown",
   "metadata": {},
   "source": [
    "### Escape speed"
   ]
  },
  {
   "cell_type": "markdown",
   "metadata": {},
   "source": [
    "We know that the escape speed of an approximately circular Earth like planet from a massive approximately circular object like the Sun at a certain distance is given by the below equation:\n",
    "$$v=\\sqrt{\\frac{2GM}{R}}$$\n",
    "\n",
    "where $G$ is the gravitational constant, $M$ the mass of the Sun and $R$ the distance from the Sun.\n",
    "\n",
    "At $R = 149.59787\\times 10^9$ we get:\n",
    "\\begin{align}\n",
    "v &= \\sqrt{\\frac{2 \\times 6.67408 \\times 10^{-11} \\times 1.989 \\times 10^{30}}{149.59787\\times 10^9}} \\\\\n",
    "&= 42127.47101257403 m/s \\end{align} \n",
    "\n",
    "\n"
   ]
  },
  {
   "cell_type": "markdown",
   "metadata": {},
   "source": [
    "### Corresponding Energy"
   ]
  },
  {
   "cell_type": "markdown",
   "metadata": {},
   "source": [
    "For an inital speed equal to the escape speed above, $v = 42127.47101257403m/s$ we get the following calculation for energy:\n",
    "\n",
    "\\begin{align}\n",
    "E &= \\textrm{kinetic energy + gravitational potential energy}\\\\ \n",
    "&= \\frac{1}{2}m\\dot{\\underline{r}}^2+\\frac{GM_{sun}m_{ear}}{\\lvert \\underline{r}\\rvert}\\\\\n",
    "&= (\\frac{1}{2} \\times 5.9722 \\times 10^{24} \\times (42127.47101257403^2)-\\frac{6.67408 \\times 10^{-11} \\times 1.989 \\times 10^{30} \\times 5.9722 \\times 10^{24}}{149.59787 \\times 10^{9}}\\\\\n",
    "&= 0\n",
    "\\end{align}\n",
    "\n"
   ]
  },
  {
   "cell_type": "markdown",
   "metadata": {},
   "source": [
    "### Theoretical result for corresponding energy.\n",
    "\n",
    "As energy is conserved we can form the following equation\n",
    "\n",
    "$$\\frac{1}{2}m_{ear}{{ (\\dot r_{inital})}}^2+\\frac{GM_{sun}m_{ear}}{\\lvert {r_{inital}}\\rvert} = \\frac{1}{2}m_{ear}{{ (\\dot r_{infinity})}}^2+\\frac{GM_{sun}m_{ear}}{\\lvert {r_{infinity}}\\rvert}$$\n",
    "\n",
    "Now, if a planet is at the exact escape speed for a given distance then we should should expect that at $r= \\infty$, its kinetic energy is zero since it should've slowed to a halt. Therefore we have the following:\n",
    "\n",
    "\n",
    "\n",
    "\\begin{align}\n",
    "\\frac{1}{2}m_{ear}{{ (\\dot r_{inital})}}^2+\\frac{GM_{sun}m_{ear}}{\\lvert {r_{inital}}\\rvert} &= \\frac{1}{2}m_{ear}0+\\frac{GM_{sun}m_{ear}}{\\infty}\\\\ \n",
    "&= 0\\\\\n",
    "\\end{align}\n",
    "\n",
    "And thus we see that the theoretical corresponding energy for a speed equal to the escape speed is 0. This is expected because from the above we have:\n",
    "\n",
    "\\begin{align}\n",
    "\\frac{1}{2}m_{ear}{{ (\\dot r_{inital})}}^2 &= -\\frac{GM_{sun}m_{ear}}{\\lvert {r_{inital}}\\rvert}\n",
    "\\end{align}\n",
    "\n",
    "and thus:\n",
    "\n",
    "$$\\dot r_{inital}=\\sqrt{\\frac{2GM_{sun}}{\\lvert {r_{inital}}\\rvert}}$$\n",
    "\n",
    "which is the equation we used to calculate the escape velocity in the first instance."
   ]
  },
  {
   "cell_type": "markdown",
   "metadata": {},
   "source": [
    "##  Question 5"
   ]
  },
  {
   "cell_type": "markdown",
   "metadata": {},
   "source": [
    "In this section we take a look at the three body problem:"
   ]
  },
  {
   "cell_type": "code",
   "execution_count": null,
   "metadata": {},
   "outputs": [],
   "source": [
    "numberOfIterations = 3600\n",
    "\n",
    "# calculates the trajectories and velocities of three seperate bodies\n",
    "def relativeThreeOrbit(r01, v01, r02,v02,r03,v03,m1,m2,m3):\n",
    "    dt = 3.15e7 / 3600  # using a timestamp of roughly 2.5 hours\n",
    "\n",
    "    # initilising variables and storing initial conditions\n",
    "    r1Vect = np.zeros(((numberOfIterations + 1), 2))\n",
    "    a1Vect = np.zeros(((numberOfIterations + 1), 2))\n",
    "    v1Vect = np.zeros(((numberOfIterations + 1), 2))\n",
    "\n",
    "    r2Vect = np.zeros(((numberOfIterations + 1), 2))\n",
    "    a2Vect = np.zeros(((numberOfIterations + 1), 2))\n",
    "    v2Vect = np.zeros(((numberOfIterations + 1), 2))\n",
    "\n",
    "    r3Vect = np.zeros(((numberOfIterations + 1), 2))\n",
    "    a3Vect = np.zeros(((numberOfIterations + 1), 2))\n",
    "    v3Vect = np.zeros(((numberOfIterations + 1), 2))\n",
    "\n",
    "    modr1r2Vect = np.zeros(((numberOfIterations + 1), 2))\n",
    "    modr1r3Vect = np.zeros(((numberOfIterations + 1), 2))\n",
    "    modr2r3Vect = np.zeros(((numberOfIterations + 1), 2))\n",
    "\n",
    "    r1Vect[0] = r01\n",
    "    v1Vect[0] = v01\n",
    "    r2Vect[0] = r02\n",
    "    v2Vect[0] = v02\n",
    "    r3Vect[0] = r03\n",
    "    v3Vect[0] = v03\n",
    "    \n",
    "    modr1r2Vect[0] = r1Vect[0] - r2Vect[0]\n",
    "    modr1r3Vect[0] = r1Vect[0] - r3Vect[0]\n",
    "    modr2r3Vect[0] = r2Vect[0] - r3Vect[0]\n",
    "\n",
    "    # uses the velocity Verlet algorithm to compute positions,acceleration and velocities of each body \n",
    "    for i in range(numberOfIterations):\n",
    "        \n",
    "        r1Vect[i + 1] = (r1Vect[i]) + (v1Vect[i] * dt) + (0.5 * a1Vect[i] * (dt ** 2))\n",
    "        r2Vect[i + 1] = (r2Vect[i]) + (v2Vect[i] * dt) + (0.5 * a2Vect[i] * (dt ** 2))\n",
    "        r3Vect[i + 1] = (r3Vect[i]) + (v3Vect[i] * dt) + (0.5 * a3Vect[i] * (dt ** 2))\n",
    "        \n",
    "        \n",
    "        modr1r2Vect[i + 1] = r1Vect[i + 1] - r2Vect[i + 1]\n",
    "        modr1r3Vect[i + 1] = r1Vect[i + 1] - r3Vect[i + 1]\n",
    "        modr2r3Vect[i + 1] = r2Vect[i + 1] - r3Vect[i + 1]\n",
    "        \n",
    "        a1Vect[i + 1] = (twoBodyForce(modr1r2Vect[i + 1], m1,m2) + twoBodyForce(modr1r3Vect[i + 1], m1,m3)) / m1\n",
    "        a2Vect[i + 1] = twoBodyForce(modr2r3Vect[i + 1], m2, m3) / m2 + twoBodyForce(-modr1r2Vect[i + 1], m1,m2) / m2\n",
    "        a3Vect[i + 1] = twoBodyForce(-modr1r3Vect[i + 1], m1, m3) / m3 + twoBodyForce(-modr2r3Vect[i + 1], m2, m3) / m3\n",
    "        \n",
    "        v1Vect[i + 1] = (v1Vect[i]) + (0.5 * (a1Vect[i + 1] + a1Vect[i]) * dt)\n",
    "        v2Vect[i + 1] = (v2Vect[i]) + (0.5 * (a2Vect[i + 1] + a2Vect[i]) * dt)\n",
    "        v3Vect[i + 1] = (v3Vect[i]) + (0.5 * (a3Vect[i + 1] + a3Vect[i]) * dt)\n",
    "        \n",
    "    # returning the path of each body\n",
    "    return {\"Body 1\":r1Vect, \"Body 2\":r2Vect,\"Body 3\": r3Vect}"
   ]
  },
  {
   "cell_type": "markdown",
   "metadata": {},
   "source": [
    "## Scenario 1:\n",
    "In this first scenario, we have three bodies, each with a similar mass to the sun. In the animation you can see it quickly devolves to chaotic orbits."
   ]
  },
  {
   "cell_type": "code",
   "execution_count": null,
   "metadata": {},
   "outputs": [],
   "source": [
    "pointsDictionary = relativeThreeOrbit((0,0),(0,0), (orbitDistance,0),(0,50000), (0,orbitDistance),(0,40000), sunMass,sunMass,sunMass)\n",
    "\n",
    "fig = plt.figure()\n",
    "ax = plt.axes(xlim=(-525e9, 525e9), ylim=(-525e9, 525e9))\n",
    "\n",
    "animatingPointsDictionary = {}\n",
    "\n",
    "for key in pointsDictionary:\n",
    "    animatingPointsDictionary[key], = ax.plot(0, 0, marker=\"o\")\n",
    "\n",
    "point, = ax.plot(0,0, marker=\"o\")\n",
    "plt.title(\"Three Body Orbits\")\n",
    "plt.xlabel(\"x-axis\")\n",
    "plt.ylabel(\"y-axis\")\n",
    "\n",
    "anim = animation.FuncAnimation(fig, animateMultiple, init_func=init,\n",
    "                               interval=1, blit=True, frames=3600, save_count=300)\n",
    "\n",
    "for key in pointsDictionary:\n",
    "    plt.plot(pointsDictionary[key][:, 0], pointsDictionary[key][:, 1], label=key)\n",
    "\n",
    "plt.legend(loc=\"upper left\")\n",
    "\n",
    "plt.show()"
   ]
  },
  {
   "cell_type": "markdown",
   "metadata": {},
   "source": [
    "## Scenario 2:\n",
    "In this scenario, we have another three bodies with different masses and inital speeds. This example also leads to chaotic trajectories. "
   ]
  },
  {
   "cell_type": "code",
   "execution_count": null,
   "metadata": {},
   "outputs": [],
   "source": [
    "pointsDictionary = relativeThreeOrbit((0,0),(70000,50000), (orbitDistance,0),(0,50000), (0,orbitDistance),(0,30000), earMass,sunMass,sunMass)\n",
    "fig = plt.figure()\n",
    "ax = plt.axes(xlim=(-525e9, 525e9), ylim=(-525e9, 525e9))\n",
    "\n",
    "animatingPointsDictionary = {}\n",
    "\n",
    "for key in pointsDictionary:\n",
    "    animatingPointsDictionary[key], = ax.plot(0, 0, marker=\"o\")\n",
    "\n",
    "point, = ax.plot(0,0, marker=\"o\")\n",
    "plt.title(\"Three Body Orbits\")\n",
    "plt.xlabel(\"x-axis\")\n",
    "plt.ylabel(\"y-axis\")\n",
    "\n",
    "anim = animation.FuncAnimation(fig, animateMultiple, init_func=init,\n",
    "                               interval=1, blit=True, frames=3600, save_count=300)\n",
    "\n",
    "for key in pointsDictionary:\n",
    "    plt.plot(pointsDictionary[key][:, 0], pointsDictionary[key][:, 1], label=key)\n",
    "\n",
    "plt.legend(loc=\"upper left\")\n",
    "     \n",
    "\n",
    "plt.show()"
   ]
  },
  {
   "cell_type": "markdown",
   "metadata": {},
   "source": [
    "## Question 7"
   ]
  },
  {
   "cell_type": "markdown",
   "metadata": {},
   "source": [
    "In this section we will firstly simulate a two body system of a Sun like planet initally centred at $r_0=(0 ,0)$ with inital velocity $v_0 = (0,0)ms^{-1}$ and a Jupiter like planet initally at $r_0=(149.59787\\times 10^9 m ,0)$ with an inital velocity of $v_0 = (0, 30.0km \\backslash s)$. \n",
    "\n",
    "We initally run the simulation using the velocity Verlet algorithm $k = 30000$ times with a $dt$ of roughly $2.5h$, equivilant to the number of seconds in a year divided by $3600$. This means that the simulation runs over the course of about 8 years. This is to ensure we see the full range of dynamics.\n",
    "\n"
   ]
  },
  {
   "cell_type": "markdown",
   "metadata": {},
   "source": [
    "### Utility Function"
   ]
  },
  {
   "cell_type": "code",
   "execution_count": null,
   "metadata": {},
   "outputs": [],
   "source": [
    "def relativeTwoOrbit(r01, v01, r02,v02,m1,m2):\n",
    "    dt = 3.15e7 / 3600  # using a timestamp of roughly 2.5 hours\n",
    "\n",
    "    # initilising variables and storing initial conditions\n",
    "    r1Vect = np.zeros(((numberOfIterations + 1), 2))\n",
    "    a1Vect = np.zeros(((numberOfIterations + 1), 2))\n",
    "    v1Vect = np.zeros(((numberOfIterations + 1), 2))\n",
    "\n",
    "    r2Vect = np.zeros(((numberOfIterations + 1), 2))\n",
    "    a2Vect = np.zeros(((numberOfIterations + 1), 2))\n",
    "    v2Vect = np.zeros(((numberOfIterations + 1), 2))\n",
    "\n",
    "    modr1r2Vect = np.zeros(((numberOfIterations + 1), 2))\n",
    "    \n",
    "    centreOfGravity = np.zeros(((numberOfIterations + 1), 2))\n",
    "\n",
    "    r1Vect[0] = r01\n",
    "    v1Vect[0] = v01\n",
    "    r2Vect[0] = r02\n",
    "    v2Vect[0] = v02\n",
    "    \n",
    "    #calc inital cog and variable\n",
    "    centreOfGravity[0] = ((m1 * r1Vect[0]) + (m2* r2Vect[0])) / (m1 + m2)\n",
    "    \n",
    "    modr1r2Vect[0] = r1Vect[0] - r2Vect[0]\n",
    "    \n",
    "    # uses the velocity Verlet algorithm to compute positions,acceleration and velocities of each body \n",
    "    for i in range(numberOfIterations):\n",
    "        \n",
    "        r1Vect[i + 1] = (r1Vect[i]) + (v1Vect[i] * dt) + (0.5 * a1Vect[i] * (dt ** 2))\n",
    "        r2Vect[i + 1] = (r2Vect[i]) + (v2Vect[i] * dt) + (0.5 * a2Vect[i] * (dt ** 2))\n",
    "        \n",
    "        modr1r2Vect[i+1] = r1Vect[i+1] - r2Vect[i+1]\n",
    "\n",
    "        a1Vect[i + 1] = (twoBodyForce(modr1r2Vect[i+1], m1,m2))  / m1\n",
    "        a2Vect[i + 1] = (twoBodyForce(-modr1r2Vect[i+1], m1,m2))  / m2\n",
    "        \n",
    "        v1Vect[i + 1] = (v1Vect[i]) + (0.5 * (a1Vect[i + 1] + a1Vect[i]) * dt)\n",
    "        v2Vect[i + 1] = (v2Vect[i]) + (0.5 * (a2Vect[i + 1] + a2Vect[i]) * dt)\n",
    "        \n",
    "        centreOfGravity[i+1] = ((m1 * r1Vect[i+1]) + (m2* r2Vect[i+1])) / (m1 + m2)\n",
    "\n",
    "    return {\"Body 1\":r1Vect, \n",
    "            \"Body 2\":r2Vect,\n",
    "            \"Centre of Gravity\": centreOfGravity, \n",
    "            \"accBodyOne\": a1Vect, \n",
    "            \"vB1\": v1Vect,\n",
    "            \"accBodyTwo\": a2Vect,\n",
    "            \"vB2\": v2Vect}"
   ]
  },
  {
   "cell_type": "markdown",
   "metadata": {},
   "source": [
    "### Constants"
   ]
  },
  {
   "cell_type": "code",
   "execution_count": null,
   "metadata": {},
   "outputs": [],
   "source": [
    "jupMass = 1.898 * (10**27)\n",
    "jupiterOrbitDistance = orbitDistance \n",
    "vValue = 30000"
   ]
  },
  {
   "cell_type": "markdown",
   "metadata": {
    "scrolled": true
   },
   "source": [
    "### Overview of Trajectories"
   ]
  },
  {
   "cell_type": "code",
   "execution_count": null,
   "metadata": {},
   "outputs": [],
   "source": [
    "numberOfIterations = 30000 #appropriately long to see how changes with time\n",
    "pointsDictionary = relativeTwoOrbit((0,0), (0,0), (jupiterOrbitDistance, 0),(0, vValue),sunMass,jupMass)\n",
    "dim = 2.5e11\n",
    "\n",
    "#set up figure\n",
    "fig = plt.figure()\n",
    "ax = plt.axes(xlim=(-dim, dim), ylim=(-dim, dim))\n",
    " \n",
    "for key in pointsDictionary:\n",
    "    #ensuring that the right graphs are plotted\n",
    "    if key in ['accBodyOne', 'vB1', 'accBodyTwo', 'vB2']:\n",
    "        continue\n",
    "    \n",
    "    plt.plot(pointsDictionary[key][:, 0], pointsDictionary[key][:, 1], label=key)\n",
    "    \n",
    "plt.title('Jupiter like planet orbiting free star trajectories')\n",
    "    \n",
    "plt.xlabel(\"x-axis\")\n",
    "plt.ylabel(\"y-axis\")\n",
    "   \n",
    "plt.show()"
   ]
  },
  {
   "cell_type": "markdown",
   "metadata": {},
   "source": [
    "Clearly the above does not give us much of a view of how the Sun wobbles and how the centre of gravity changes. Below we zoom in and scale the orbit of the Jupiter like planet down. This allows us to get a full view of the dynamics. We also animate the current acceleration and velocity for both the Jupiter like planet and the Star.\n",
    "\n",
    "Though keep in mind that the Jupiter like planet trajectory is scaled down so the star will feel a force that doesn't correspond to the position of the planet on the scaled down trajectory."
   ]
  },
  {
   "cell_type": "markdown",
   "metadata": {},
   "source": [
    "### Orbital Dynamics Close Up"
   ]
  },
  {
   "cell_type": "code",
   "execution_count": null,
   "metadata": {},
   "outputs": [],
   "source": [
    "numberOfIterations = 30000 \n",
    "\n",
    "pointsDictionary = relativeTwoOrbit((0,0), (0,0), (jupiterOrbitDistance, 0),(0, vValue),sunMass,jupMass)\n",
    "\n",
    "dim = 3e9\n",
    "\n",
    "fig = plt.figure()\n",
    "ax = plt.axes(xlim=(-dim, dim), ylim=(-dim, dim))\n",
    "\n",
    "#scaling jupiter like planet orbit down so it and the star and cog can be visible on the same graph\n",
    "pointsDictionary['Body 2'] = np.array([x / 250 for x in pointsDictionary['Body 2']])     \n",
    "   \n",
    "for key in pointsDictionary:\n",
    "    \n",
    "    if key in ['accBodyOne', 'vB1', 'accBodyTwo', 'vB2']:\n",
    "        pass\n",
    "    else:\n",
    "        plt.plot(pointsDictionary[key][:, 0], pointsDictionary[key][:, 1], label=key)\n",
    "    \n",
    "#plotting our text in appropriate locations\n",
    "plt.text(1.5/5*dim, 5/6*dim, 'Star')\n",
    "        \n",
    "accText1 = plt.text(1.5/5*dim, 4/6*dim, '', label='accBodyOne')    \n",
    "\n",
    "vText1 = plt.text(1.5/5*dim, 3/6*dim, 'v', label='vB1')\n",
    "\n",
    "plt.text(-6/7*dim, 5/6*dim, 'Jupiter-like')\n",
    "\n",
    "accText2 = plt.text(-6/7*dim, 4/6*dim, '', label='accBodyTwo')    \n",
    "\n",
    "vText2 = plt.text(-6/7*dim, 3/6*dim, 'v', label='vB2')\n",
    "\n",
    "#setting up objects for animation\n",
    "\n",
    "animatingPointsDictionary = {}\n",
    "\n",
    "for key in pointsDictionary:\n",
    "    \n",
    "    if key == 'accBodyOne':\n",
    "        animatingPointsDictionary[key] = accText1\n",
    "    elif key == 'vB1':\n",
    "        animatingPointsDictionary[key] = vText1\n",
    "    elif key == 'accBodyTwo':\n",
    "        animatingPointsDictionary[key] = accText2\n",
    "    elif key =='vB2':\n",
    "        animatingPointsDictionary[key] = vText2\n",
    "    else:\n",
    "        animatingPointsDictionary[key], = ax.plot(0, 0, marker=\"o\")\n",
    "  \n",
    "point, = ax.plot(0,0, marker=\"o\")\n",
    "\n",
    "anim = animation.FuncAnimation(fig, animateMultipleWithText, init_func=initWithText,\n",
    "                               interval=1, blit=True, frames=numberOfIterations, save_count=300)    \n",
    "    \n",
    "plt.title('Star and barycenter with scaled Jupiter-like orbit')\n",
    "    \n",
    "plt.xlabel(\"x-axis\")\n",
    "plt.ylabel(\"y-axis\")\n",
    "    \n",
    "plt.show()"
   ]
  },
  {
   "cell_type": "markdown",
   "metadata": {},
   "source": [
    "We now move to finding out more specifically about the star's orbit around the centre of mass. We simulate and graph the star's trajectory relative to the system centre of gravity."
   ]
  },
  {
   "cell_type": "code",
   "execution_count": null,
   "metadata": {},
   "outputs": [],
   "source": [
    "numberOfIterations = 3670 *3 #checking stable for long periods\n",
    "\n",
    "pointsDictionary = relativeTwoOrbit((0,0), (0,0), (jupiterOrbitDistance, 0),(0, vValue),sunMass,jupMass)\n",
    "\n",
    "#creating an array of the star's orbit relative to the barrycentre\n",
    "sunOrbitRelativeToBarry = np.array([x - y for (x, y) in zip(pointsDictionary['Body 1'], pointsDictionary['Centre of Gravity'])])     "
   ]
  },
  {
   "cell_type": "code",
   "execution_count": null,
   "metadata": {},
   "outputs": [],
   "source": [
    "dim = 2e8\n",
    "\n",
    "fig = plt.figure()\n",
    "ax = plt.axes(xlim=(-dim, dim), ylim=(-dim, dim))\n",
    "\n",
    "point, = ax.plot(0,0, marker=\"o\")\n",
    "\n",
    "plt.plot([0,0],'ro')\n",
    "plt.annotate(\"Barycenter\",(0,0))\n",
    "\n",
    "anim = animation.FuncAnimation(fig, animateBarry, init_func=init,\n",
    "                               interval=1, blit=True, frames=3670*3, save_count=300)    \n",
    "    \n",
    "plt.plot(sunOrbitRelativeToBarry[:, 0], sunOrbitRelativeToBarry[:, 1])\n",
    "    \n",
    "plt.title('Star orbit relative to barycenter')\n",
    "    \n",
    "plt.xlabel(\"x-axis\")\n",
    "plt.ylabel(\"y-axis\")\n",
    "    \n",
    "plt.show()"
   ]
  },
  {
   "cell_type": "markdown",
   "metadata": {},
   "source": [
    "Even over the course of many orbits the orbit of the star around the centre of gravity is closed and consistant. This fact will be seen to be useful later. "
   ]
  },
  {
   "cell_type": "markdown",
   "metadata": {},
   "source": [
    "### Calculating minimum and maximum radius of star's orbit."
   ]
  },
  {
   "cell_type": "code",
   "execution_count": null,
   "metadata": {},
   "outputs": [],
   "source": [
    "#essentially same logic as previously seen\n",
    "\n",
    "index = 0\n",
    "    \n",
    "minDistanceIndex = 0\n",
    "maxDistanceIndex = 0\n",
    "    \n",
    "minDistanceCoords = [sunOrbitRelativeToBarry[0][0], sunOrbitRelativeToBarry[0][1]] \n",
    "    \n",
    "maxDistanceCoords = [sunOrbitRelativeToBarry[0][0], sunOrbitRelativeToBarry[0][1]] \n",
    "    \n",
    "minDistance = sqrt((minDistanceCoords[0] ** 2) + (minDistanceCoords[1] ** 2))\n",
    "    \n",
    "maxDistance = minDistance\n",
    "\n",
    "for point in sunOrbitRelativeToBarry:\n",
    "        \n",
    "    distance = sqrt((point[0]**2) + (point[1] **2))\n",
    "        \n",
    "    if distance > maxDistance:\n",
    "        maxDistance = distance\n",
    "        maxDistanceIndex = index\n",
    "            \n",
    "        maxDistanceCoords[0] = point[0]\n",
    "        maxDistanceCoords[1] = point[1]\n",
    "       \n",
    "    if distance < minDistance:\n",
    "            \n",
    "        minDistance = distance\n",
    "        minDistanceIndex = index\n",
    "            \n",
    "        minDistanceCoords[0] = point[0]\n",
    "        minDistanceCoords[1] = point[1]\n",
    "        \n",
    "    index += 1\n",
    "print(minDistance)\n",
    "print(maxDistance)"
   ]
  },
  {
   "cell_type": "markdown",
   "metadata": {},
   "source": [
    "We now see what we can learn about how the above concepts and analyses links to the detection of exoplanets. We also calculate the radial velocity wobble of the above system. "
   ]
  },
  {
   "cell_type": "markdown",
   "metadata": {},
   "source": [
    "### Detections and implications of wobbling Stars\n",
    "\n",
    "When stars move away with respect to an observation point their colour shifts to the red end of the spectrum. When stars move closer with respect to an observation point, their colour shifts to the blue end of the spectrum. If a star is getting redder, then normal and then bluer again it implies that it is moving in eliptical/circular motion around some centre of gravity (or barycenter) with respect to an observation point. This is because the observed shift in colour of the star implies a radial velocity that is changing in approximately sinsuduial motion, and thus an approximately circular orbit. The displacement of a star around a centre of gravity implies that the Star is orbited by another body. The orbit distance of this body and its mass can be inferred from the radial velocity, the amplitude of its sinsuduial motion and period.  \n",
    "\n",
    "Because calculus and geometry allows us to calculate the radial velocity of \n",
    "\n",
    "### Calculating Radial Velocity of a wobbling Star in the general case\n",
    "\n",
    "\n",
    "We can paramatise a star's circular orbit by the following: \n",
    "$$x = r\\cos(\\lambda t), y = r\\sin(\\lambda t) $$\n",
    ", with $r = orbital radius and \\lambda = \\frac{2\\pi}{orbital period}.$ Because we are concerned with radial velocity we do not need to worry about paramtising the orbit with respect to its actual location in space. The radial velocity is directed straight at the point of observation by definition and thus identical with respect to any direction. \n",
    "\n",
    "\n",
    "Next, we can clearly see that: $$\\dot{y} = r\\lambda\\cos(\\lambda t) $$ \n",
    "and thus we have the tell tale sinsuduial motion.\n",
    "\n",
    "\n",
    "### Radial velocity our inital system\n",
    "\n",
    "From our calculations and graphs in the previous section we know that our Star has a period about the centre of gravity of: $$3670 \\times dt \\space seconds = 3670 \\times \\frac{3.1536 \\times 10^{7}}{3600} seconds = (\\approx 1.02 earth years)$$.\n",
    "\n",
    "Whilst the orbit of the star around the centre of gravity is elliptical rather than exactly ciruclar, it is approximately circular: it has a minimum radius of $1.43 \\times 10^{8}$ and a maximum radius of $1.46 \\times 10^{8}$. So, we can treat the orbit's radius $r$ as being about the average of these distances: $1.45 \\times 10^{8}$.\n",
    "\n",
    "Therefore, we have that our Jupiter like planet has an approximate radial velocity with amplitude:\n",
    "\n",
    "$$ r \\times \\lambda = 1.45 \\times 10^{8} \\times \\frac{2\\pi}{ 3670 \\times \\frac{3.1536 \\times 10^{7}}{3600}} \\approx 28.3 ms^{-1} \\space (3 s.f.)$$\n",
    "        \n",
    "The change in the radial velocity is shown by the graph below:    \n",
    "\n",
    "\n",
    "\n"
   ]
  },
  {
   "cell_type": "code",
   "execution_count": null,
   "metadata": {},
   "outputs": [],
   "source": [
    "#necessary for our x array\n",
    "roundedSeconds = int(round((3670 * (3.1536e7/3600)), 0)) * 3\n",
    "\n",
    "fig = plt.figure()\n",
    "ax = plt.axes(ylim=(-30, 30), xlim=(0, roundedSeconds))\n",
    "\n",
    "#getting our x array\n",
    "x = np.arange(0, roundedSeconds, 1)\n",
    "\n",
    "#calculating lambda\n",
    "lam = (2 * np.pi) / (3670 * (3.1536e7/3600))\n",
    "\n",
    "#calculating y array\n",
    "y = 1.45e8 * lam * np.cos(-lam * x)\n",
    "\n",
    "plt.title('Radial Velocity of Star in Inital System')\n",
    "    \n",
    "plt.xlabel(\"Time ($s$)\")\n",
    "plt.ylabel(\"Velocity ($ms^{-1}$)\")\n",
    "\n",
    "plt.plot(x,y)\n",
    "\n",
    "plt.show()"
   ]
  },
  {
   "cell_type": "markdown",
   "metadata": {},
   "source": [
    "### Visbility of inital system radius velocity wobble from Earth."
   ]
  },
  {
   "cell_type": "markdown",
   "metadata": {},
   "source": [
    "The planet Gliese 581c was detected via the above method. It caused a $3.18m^{-1}$ variation in the radial velocity of the star it orbited. It is about $20$ light years away. Thus, a Jupiter like planet orbiting a star of mass similar to the Sun at a distance of $1AU$ should be detectable at \n",
    "$$\\frac{28.3}{3.18} \\times 20 \\space light \\space years \\approx 178 \\space light \\space years.$$"
   ]
  },
  {
   "cell_type": "markdown",
   "metadata": {},
   "source": [
    "# END"
   ]
  }
 ],
 "metadata": {
  "kernelspec": {
   "display_name": "Python 3",
   "language": "python",
   "name": "python3"
  },
  "language_info": {
   "codemirror_mode": {
    "name": "ipython",
    "version": 3
   },
   "file_extension": ".py",
   "mimetype": "text/x-python",
   "name": "python",
   "nbconvert_exporter": "python",
   "pygments_lexer": "ipython3",
   "version": "3.8.5"
  }
 },
 "nbformat": 4,
 "nbformat_minor": 4
}
